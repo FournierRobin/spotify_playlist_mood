{
 "cells": [
  {
   "cell_type": "code",
   "execution_count": 30,
   "metadata": {},
   "outputs": [],
   "source": [
    "from langchain.llms import CTransformers\n",
    "from langchain import PromptTemplate, LLMChain\n",
    "from langchain.callbacks.streaming_stdout import StreamingStdOutCallbackHandler"
   ]
  },
  {
   "cell_type": "code",
   "execution_count": 31,
   "metadata": {},
   "outputs": [
    {
     "name": "stderr",
     "output_type": "stream",
     "text": [
      "Fetching 1 files: 100%|██████████| 1/1 [00:00<00:00, 13888.42it/s]\n",
      "Fetching 1 files: 100%|██████████| 1/1 [00:00<00:00, 9731.56it/s]\n"
     ]
    }
   ],
   "source": [
    "llm = CTransformers(model=\"TheBloke/Llama-2-7B-Chat-GGML\", model_file = 'llama-2-7b-chat.ggmlv3.q2_K.bin', callbacks=[StreamingStdOutCallbackHandler()])"
   ]
  },
  {
   "cell_type": "code",
   "execution_count": 32,
   "metadata": {},
   "outputs": [],
   "source": [
    "list_genres = [\n",
    "    'acoustic',\n",
    "    'alt-rock',\n",
    "    'alternative',\n",
    "    'ambient',\n",
    "    'blues',\n",
    "    'classical',\n",
    "    'country',\n",
    "    'dance',\n",
    "    'disco',\n",
    "    'edm',\n",
    "    'electronic',\n",
    "    'folk',\n",
    "    'funk',\n",
    "    'hip-hop',\n",
    "    'house',\n",
    "    'indie',\n",
    "    'jazz',\n",
    "    'k-pop',\n",
    "    'latin',\n",
    "    'metal',\n",
    "    'pop',\n",
    "    'punk',\n",
    "    'r-n-b',\n",
    "    'reggae',\n",
    "    'rock',\n",
    "    'soul',\n",
    "    'techno',\n",
    "    'trance',\n",
    "    'reggaeton',\n",
    "    'singer-songwriter'\n",
    "]"
   ]
  },
  {
   "cell_type": "code",
   "execution_count": 33,
   "metadata": {},
   "outputs": [],
   "source": [
    "template = \"\"\"\n",
    "[INST] <<SYS>>\n",
    "I give you a sentence, answer in a very specific way.\n",
    "The objective is : based on a sentence describing a mood, I need get a list of characteristics allowing me to generate a playlist accordingly.\n",
    "I want you to format the answer this exact way:\n",
    "\"target_acousticness: x,\n",
    "target_danceability: x,\n",
    "target_energy: x,\n",
    "target_instrumentalness: x,\n",
    "target_speechiness: x,\n",
    "genre: x\"\n",
    "For parameters that start with \"target_\", replace the \"x\" with a value between 0.0 and 1.0 that you consider the most appropriate based on my sentence\n",
    "For the \"genre\" parameter, replace the \"x\" with the music genre you think is best suited from the following list : {list_genres}.\n",
    "So, for each sentence I will send, I want you to respond ONLY in the above format. NO OTHER TEXT, NO INTRO OR OUTRO MESSAGE.\n",
    "<</SYS>>\n",
    "{text}[/INST]\n",
    "\"\"\"\n",
    "\n",
    "prompt = PromptTemplate(template=template, input_variables=[\"list_genres\",\"text\"])"
   ]
  },
  {
   "cell_type": "code",
   "execution_count": 34,
   "metadata": {},
   "outputs": [],
   "source": [
    "llm_chain = LLMChain(prompt=prompt, llm=llm)"
   ]
  },
  {
   "cell_type": "code",
   "execution_count": 35,
   "metadata": {},
   "outputs": [
    {
     "name": "stdout",
     "output_type": "stream",
     "text": [
      "target_acousticness: 0.5,\n",
      "target_danceability: 0.3,\n",
      "target_energy: 0.4,\n",
      "target_instrumentalness: 0.7,\n",
      "target_speechiness: 0.6,\n",
      "genre: alternative"
     ]
    }
   ],
   "source": [
    "response = llm_chain.run(list_genres=list_genres, text=\"I'm feeling kinda depressed today and i'd like to listen to some lofi i think\")"
   ]
  },
  {
   "cell_type": "markdown",
   "metadata": {},
   "source": [
    "------------------"
   ]
  },
  {
   "cell_type": "code",
   "execution_count": null,
   "metadata": {},
   "outputs": [],
   "source": [
    "response"
   ]
  },
  {
   "cell_type": "code",
   "execution_count": null,
   "metadata": {},
   "outputs": [],
   "source": [
    "normalized_string = response.replace(',', '').replace(' ', '').replace('\\n', '').lower()"
   ]
  },
  {
   "cell_type": "code",
   "execution_count": null,
   "metadata": {},
   "outputs": [],
   "source": [
    "target_acousticness = float(re.search(r'target_acousticness:([\\d.]+)', normalized_string).group(1))"
   ]
  },
  {
   "cell_type": "code",
   "execution_count": null,
   "metadata": {},
   "outputs": [],
   "source": [
    "#target_acousticness = float(re.search(r'target_acousticness:([\\d.]+)', normalized_string).group(1))\n",
    "#target_danceability = float(re.search(r'target_danceability:([\\d.]+)', normalized_string).group(1))\n",
    "#target_energy = float(re.search(r'target_energy:([\\d.]+)', normalized_string).group(1))\n",
    "#target_instrumentalness = float(re.search(r'target_instrumentalness:([\\d.]+)', normalized_string).group(1))\n",
    "#target_speechiness = float(re.search(r'target_speechiness:([\\d.]+)', normalized_string).group(1))\n"
   ]
  },
  {
   "cell_type": "markdown",
   "metadata": {},
   "source": [
    "# Parsing response"
   ]
  },
  {
   "cell_type": "code",
   "execution_count": null,
   "metadata": {},
   "outputs": [],
   "source": [
    "import re\n",
    "\n",
    "def parse_mood_string(mood_string):\n",
    "    # Normalize the string: remove commas, spaces, and convert to lowercase\n",
    "    normalized_string = mood_string.replace(',', '').replace(' ', '').replace('\\n', '').lower()\n",
    "\n",
    "    # Extract values using regular expressions\n",
    "    target_acousticness = float(re.search(r'target_acousticness:([\\d.]+)', normalized_string).group(1))\n",
    "    target_danceability = float(re.search(r'target_danceability:([\\d.]+)', normalized_string).group(1))\n",
    "    target_energy = float(re.search(r'target_energy:([\\d.]+)', normalized_string).group(1))\n",
    "    target_instrumentalness = float(re.search(r'target_instrumentalness:([\\d.]+)', normalized_string).group(1))\n",
    "    target_speechiness = float(re.search(r'target_speechiness:([\\d.]+)', normalized_string).group(1))\n",
    "    genre = re.search(r\"genre:('[a-z]+')\", normalized_string).group(1).replace(\"'\", \"\")\n",
    "\n",
    "    # Create the dictionary\n",
    "    mood_data = {\n",
    "        \"target_acousticness\": target_acousticness,\n",
    "        \"target_danceability\": target_danceability,\n",
    "        \"target_energy\": target_energy,\n",
    "        \"target_instrumentalness\": target_instrumentalness,\n",
    "        \"target_speechiness\": target_speechiness,\n",
    "        \"genre\": genre\n",
    "    }\n",
    "\n",
    "    return mood_data"
   ]
  },
  {
   "cell_type": "code",
   "execution_count": null,
   "metadata": {},
   "outputs": [],
   "source": [
    "print(parse_mood_string(response))"
   ]
  }
 ],
 "metadata": {
  "kernelspec": {
   "display_name": "nlpspotenv",
   "language": "python",
   "name": "python3"
  },
  "language_info": {
   "codemirror_mode": {
    "name": "ipython",
    "version": 3
   },
   "file_extension": ".py",
   "mimetype": "text/x-python",
   "name": "python",
   "nbconvert_exporter": "python",
   "pygments_lexer": "ipython3",
   "version": "3.10.13"
  }
 },
 "nbformat": 4,
 "nbformat_minor": 2
}
