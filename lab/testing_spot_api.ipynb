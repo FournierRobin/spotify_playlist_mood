{
 "cells": [
  {
   "cell_type": "code",
   "execution_count": 3,
   "metadata": {},
   "outputs": [],
   "source": [
    "import requests\n",
    "import os\n",
    "from dotenv import load_dotenv\n",
    "load_dotenv()\n",
    "\n",
    "AUTH_URL = 'https://accounts.spotify.com/api/token'\n",
    "\n",
    "CLIENT_ID = os.getenv('CLIENT_ID')\n",
    "CLIENT_SECRET = os.getenv('CLIENT_SECRET')\n",
    "\n",
    "# POST\n",
    "auth_response = requests.post(AUTH_URL, {\n",
    "    'grant_type': 'client_credentials',\n",
    "    'client_id': CLIENT_ID,\n",
    "    'client_secret': CLIENT_SECRET,\n",
    "})\n",
    "\n",
    "# convert the response to JSON\n",
    "auth_response_data = auth_response.json()\n",
    "\n",
    "# save the access token\n",
    "access_token = auth_response_data['access_token']\n",
    "headers = {\n",
    "    'Authorization': 'Bearer {token}'.format(token=access_token)\n",
    "}"
   ]
  },
  {
   "cell_type": "code",
   "execution_count": 4,
   "metadata": {},
   "outputs": [],
   "source": [
    "BASE_URL = 'https://api.spotify.com/v1/'"
   ]
  },
  {
   "cell_type": "code",
   "execution_count": 5,
   "metadata": {},
   "outputs": [],
   "source": [
    "# Liste de correspondance d'humeur à valence\n",
    "MOOD_MAPPING = {\n",
    "    'déprimé': {'valence': 0.2, 'energy': 0.2},\n",
    "    'triste': {'valence': 0.4, 'energy': 0.4},\n",
    "    'moyen': {'valence': 0.6, 'energy': 0.6},\n",
    "    'content': {'valence': 0.8, 'energy': 0.8},\n",
    "    'heureux': {'valence': 0.9, 'energy': 0.9}\n",
    "}\n",
    "\n",
    "def get_songs_based_on_mood(mood):\n",
    "    # Récupérer la valence correspondante à l'humeur\n",
    "    mood_data = MOOD_MAPPING.get(mood, {'valence': 0.5, 'energy': 0.5})  # Valeurs par défaut si l'humeur n'est pas reconnue\n",
    "  # 0.5 comme valeur par défaut si l'humeur n'est pas reconnue\n",
    "\n",
    "    # Utilisez l'endpoint de recommandation\n",
    "    recommendations = requests.get(BASE_URL + 'recommendations?limit=10&seed_genres=pop&target_valence=' + str(mood_data['valence']) + '&target_energy=' + str(mood_data['energy']), headers=headers)\n",
    "    \n",
    "    tracks = recommendations.json().get('tracks', [])\n",
    "    \n",
    "    for track in tracks:\n",
    "        print(track['name'], \"by\", track['artists'][0]['name'], \"-\", track['external_urls']['spotify'])\n"
   ]
  },
  {
   "cell_type": "code",
   "execution_count": 6,
   "metadata": {},
   "outputs": [
    {
     "name": "stdout",
     "output_type": "stream",
     "text": [
      "Girls by The 1975 - https://open.spotify.com/track/5WSdMcWTKRdN1QYVJHJWxz\n",
      "DUELE EL CORAZON (feat. Wisin) by Enrique Iglesias - https://open.spotify.com/track/6YZdkObH88npeKrrkb8Ggf\n",
      "Feel So Close - Radio Edit by Calvin Harris - https://open.spotify.com/track/7EOYLyD4pP4YJVgoVeKUQ1\n",
      "Instruction (feat. Demi Lovato & Stefflon Don) by Jax Jones - https://open.spotify.com/track/6yf3MxEOScNBTYCHOAIiNQ\n",
      "Calypso by Luis Fonsi - https://open.spotify.com/track/4178A5NkEjcsGc64jpBO6d\n",
      "Don't Be So Shy - Filatov & Karas Remix by Imany - https://open.spotify.com/track/00vk0sEfb6mr2ehwSw0Uhn\n",
      "The Way by Ariana Grande - https://open.spotify.com/track/06EL94D0TA27Ik0Ke5usbj\n",
      "Finesse - Remix; feat. Cardi B by Bruno Mars - https://open.spotify.com/track/3Vo4wInECJQuz9BIBMOu8i\n",
      "All About That Bass by Meghan Trainor - https://open.spotify.com/track/5jE48hhRu8E6zBDPRSkEq7\n",
      "Can't Hold Us (feat. Ray Dalton) by Macklemore & Ryan Lewis - https://open.spotify.com/track/3bidbhpOYeV4knp8AIu8Xn\n"
     ]
    }
   ],
   "source": [
    "mood_input = \"heureux\"\n",
    "get_songs_based_on_mood(mood_input)"
   ]
  },
  {
   "cell_type": "code",
   "execution_count": 7,
   "metadata": {},
   "outputs": [
    {
     "name": "stdout",
     "output_type": "stream",
     "text": [
      "Familiar by Liam Payne\n",
      "What Makes You Beautiful by One Direction\n",
      "Kiss It Better by Rihanna\n",
      "Sugar by Maroon 5\n",
      "Hard Times by Paramore\n",
      "Clandestino by Shakira\n",
      "Get Lucky (Radio Edit) [feat. Pharrell Williams and Nile Rodgers] by Daft Punk\n",
      "Mala Mía by Maluma\n",
      "Cake By The Ocean by DNCE\n",
      "Don't Be So Shy - Filatov & Karas Remix by Imany\n"
     ]
    }
   ],
   "source": [
    "# Endpoint base URL\n",
    "\n",
    "# Changer ces valeurs en fonction de l'analyse de l'humeur\n",
    "valence = 0.9  # Pour des chansons heureuses\n",
    "energy = 0.8  # Pour des chansons énergétiques\n",
    "\n",
    "# Utilisez l'endpoint de recommandation\n",
    "recommendations = requests.get(BASE_URL + 'recommendations?limit=10&seed_genres=pop&target_valence=' + str(valence) + '&target_energy=' + str(energy), headers=headers)\n",
    "\n",
    "tracks = recommendations.json()['tracks']\n",
    "for track in tracks:\n",
    "    print(track['name'], \"by\", track['artists'][0]['name'])\n"
   ]
  },
  {
   "cell_type": "code",
   "execution_count": 8,
   "metadata": {},
   "outputs": [
    {
     "data": {
      "text/plain": [
       "['acoustic',\n",
       " 'afrobeat',\n",
       " 'alt-rock',\n",
       " 'alternative',\n",
       " 'ambient',\n",
       " 'anime',\n",
       " 'black-metal',\n",
       " 'bluegrass',\n",
       " 'blues',\n",
       " 'bossanova',\n",
       " 'brazil',\n",
       " 'breakbeat',\n",
       " 'british',\n",
       " 'cantopop',\n",
       " 'chicago-house',\n",
       " 'children',\n",
       " 'chill',\n",
       " 'classical',\n",
       " 'club',\n",
       " 'comedy',\n",
       " 'country',\n",
       " 'dance',\n",
       " 'dancehall',\n",
       " 'death-metal',\n",
       " 'deep-house',\n",
       " 'detroit-techno',\n",
       " 'disco',\n",
       " 'disney',\n",
       " 'drum-and-bass',\n",
       " 'dub',\n",
       " 'dubstep',\n",
       " 'edm',\n",
       " 'electro',\n",
       " 'electronic',\n",
       " 'emo',\n",
       " 'folk',\n",
       " 'forro',\n",
       " 'french',\n",
       " 'funk',\n",
       " 'garage',\n",
       " 'german',\n",
       " 'gospel',\n",
       " 'goth',\n",
       " 'grindcore',\n",
       " 'groove',\n",
       " 'grunge',\n",
       " 'guitar',\n",
       " 'happy',\n",
       " 'hard-rock',\n",
       " 'hardcore',\n",
       " 'hardstyle',\n",
       " 'heavy-metal',\n",
       " 'hip-hop',\n",
       " 'holidays',\n",
       " 'honky-tonk',\n",
       " 'house',\n",
       " 'idm',\n",
       " 'indian',\n",
       " 'indie',\n",
       " 'indie-pop',\n",
       " 'industrial',\n",
       " 'iranian',\n",
       " 'j-dance',\n",
       " 'j-idol',\n",
       " 'j-pop',\n",
       " 'j-rock',\n",
       " 'jazz',\n",
       " 'k-pop',\n",
       " 'kids',\n",
       " 'latin',\n",
       " 'latino',\n",
       " 'malay',\n",
       " 'mandopop',\n",
       " 'metal',\n",
       " 'metal-misc',\n",
       " 'metalcore',\n",
       " 'minimal-techno',\n",
       " 'movies',\n",
       " 'mpb',\n",
       " 'new-age',\n",
       " 'new-release',\n",
       " 'opera',\n",
       " 'pagode',\n",
       " 'party',\n",
       " 'philippines-opm',\n",
       " 'piano',\n",
       " 'pop',\n",
       " 'pop-film',\n",
       " 'post-dubstep',\n",
       " 'power-pop',\n",
       " 'progressive-house',\n",
       " 'psych-rock',\n",
       " 'punk',\n",
       " 'punk-rock',\n",
       " 'r-n-b',\n",
       " 'rainy-day',\n",
       " 'reggae',\n",
       " 'reggaeton',\n",
       " 'road-trip',\n",
       " 'rock',\n",
       " 'rock-n-roll',\n",
       " 'rockabilly',\n",
       " 'romance',\n",
       " 'sad',\n",
       " 'salsa',\n",
       " 'samba',\n",
       " 'sertanejo',\n",
       " 'show-tunes',\n",
       " 'singer-songwriter',\n",
       " 'ska',\n",
       " 'sleep',\n",
       " 'songwriter',\n",
       " 'soul',\n",
       " 'soundtracks',\n",
       " 'spanish',\n",
       " 'study',\n",
       " 'summer',\n",
       " 'swedish',\n",
       " 'synth-pop',\n",
       " 'tango',\n",
       " 'techno',\n",
       " 'trance',\n",
       " 'trip-hop',\n",
       " 'turkish',\n",
       " 'work-out',\n",
       " 'world-music']"
      ]
     },
     "execution_count": 8,
     "metadata": {},
     "output_type": "execute_result"
    }
   ],
   "source": [
    "recommendations = requests.get(BASE_URL + 'recommendations/available-genre-seeds', headers=headers)\n",
    "recommendations.json()['genres']"
   ]
  },
  {
   "cell_type": "code",
   "execution_count": 9,
   "metadata": {},
   "outputs": [],
   "source": [
    "mood_data_from_ai = {'target_acousticness': 0.5, 'target_danceability': 0.2, 'target_energy': 0.4, 'target_instrumentalness': 0.3, 'target_speechiness': 0.5, 'genre': 'hip-hop'}"
   ]
  },
  {
   "cell_type": "code",
   "execution_count": 10,
   "metadata": {},
   "outputs": [],
   "source": [
    "def get_songs_based_on_mood(mood_data):\n",
    "    # Parse mood string into dictionary format\n",
    "    \n",
    "    # Construct the API request URL using string concatenation\n",
    "    request_url = (BASE_URL + 'recommendations?limit=10'\n",
    "                '&seed_genres=' + mood_data.get('genre', 'pop') +\n",
    "                '&target_acousticness=' + str(mood_data.get('target_acousticness', 0.5)) +\n",
    "                '&target_danceability=' + str(mood_data.get('target_danceability', 0.5)) +\n",
    "                '&target_energy=' + str(mood_data.get('target_energy', 0.5)) +\n",
    "                '&target_instrumentalness=' + str(mood_data.get('target_instrumentalness', 0.5)) +\n",
    "                '&target_speechiness=' + str(mood_data.get('target_speechiness', 0.5)))\n",
    "    \n",
    "    # Fetch recommendations using the endpoint\n",
    "    recommendations = requests.get(request_url, headers=headers)\n",
    "    \n",
    "    tracks = recommendations.json().get('tracks', [])\n",
    "\n",
    "    for track in tracks:\n",
    "        print(track['name'], \"by\", track['artists'][0]['name'], \"-\", track['external_urls']['spotify'])"
   ]
  },
  {
   "cell_type": "code",
   "execution_count": 13,
   "metadata": {},
   "outputs": [],
   "source": [
    "mood_data = {'target_acousticness': 0.5, 'target_danceability': 0.2, 'target_energy': 0.4, 'target_instrumentalness': 0.3, 'target_speechiness': 0.5, 'genre': 'hip-hop', 'target_popularity':0.1}"
   ]
  },
  {
   "cell_type": "code",
   "execution_count": 14,
   "metadata": {},
   "outputs": [
    {
     "name": "stdout",
     "output_type": "stream",
     "text": [
      "A Tale of 2 Citiez by J. Cole - https://open.spotify.com/track/7lL3MvFWFFSD25pBz72Agj\n",
      "Ultralight Beam by Kanye West - https://open.spotify.com/track/1eQBEelI2NCy7AUTerX0KS\n",
      "C.R.E.A.M. (Cash Rules Everything Around Me) (feat. Method Man, Raekwon, Inspectah Deck & Buddha Monk) by Wu-Tang Clan - https://open.spotify.com/track/119c93MHjrDLJTApCVGpvx\n",
      "What They Want by Russ - https://open.spotify.com/track/3pndPhlQWjuSoXhcIIdBjv\n",
      "Only by Nicki Minaj - https://open.spotify.com/track/4MRT0dDbhqFKl67WzhUbSw\n",
      "I Need a Girl (Pt. 2) [feat. Loon, Ginuwine, Mario Winans] by Diddy - https://open.spotify.com/track/6Wt5QBzHp9vdSLAFlvdnDQ\n",
      "Once an Addict - Interlude by J. Cole - https://open.spotify.com/track/0Px86mRlxdB3YqpK6KXWlr\n",
      "Juke Jam (feat. Justin Bieber & Towkio) by Chance the Rapper - https://open.spotify.com/track/3eze1OsZ1rqeXkKStNfTmi\n",
      "U.O.E.N.O. (feat. Rick Ross, Future) by Rocko - https://open.spotify.com/track/0HFrCOmhCYXlv4NdEwRAuj\n",
      "Comin Out Strong (feat. The Weeknd) by Future - https://open.spotify.com/track/1B87ZDrD3Pno9hS4stamWO\n"
     ]
    }
   ],
   "source": [
    "get_songs_based_on_mood(mood_data)"
   ]
  },
  {
   "cell_type": "code",
   "execution_count": null,
   "metadata": {},
   "outputs": [],
   "source": []
  },
  {
   "cell_type": "code",
   "execution_count": null,
   "metadata": {},
   "outputs": [],
   "source": []
  }
 ],
 "metadata": {
  "kernelspec": {
   "display_name": "nlpspotenv",
   "language": "python",
   "name": "python3"
  },
  "language_info": {
   "codemirror_mode": {
    "name": "ipython",
    "version": 3
   },
   "file_extension": ".py",
   "mimetype": "text/x-python",
   "name": "python",
   "nbconvert_exporter": "python",
   "pygments_lexer": "ipython3",
   "version": "3.10.13"
  }
 },
 "nbformat": 4,
 "nbformat_minor": 2
}
