{
 "cells": [
  {
   "cell_type": "code",
   "execution_count": 10,
   "metadata": {},
   "outputs": [],
   "source": [
    "from langchain_utils import run_llm_on_text, parse_response\n",
    "from spotify_utils import authenticate_to_spotify, get_songs_based_on_mood_data"
   ]
  },
  {
   "cell_type": "code",
   "execution_count": 15,
   "metadata": {},
   "outputs": [
    {
     "name": "stderr",
     "output_type": "stream",
     "text": [
      "Fetching 1 files: 100%|██████████| 1/1 [00:00<00:00, 30615.36it/s]\n",
      "Fetching 1 files: 100%|██████████| 1/1 [00:00<00:00, 17848.10it/s]\n"
     ]
    },
    {
     "name": "stdout",
     "output_type": "stream",
     "text": [
      "🔊 Target_acousticness: 0.7,\n",
      "        Target_danceability: 0.6,\n",
      "        🏋️ Target_energy: 0.8,\n",
      "        🎤 Target_instrumentalness: 0.5,\n",
      "        💭 Target_speechiness: 0.4,\n",
      "        Genre: Acoustic"
     ]
    }
   ],
   "source": [
    "response = run_llm_on_text(\"I'm feeling super energic today and i'd like to listen to some music to get even better\")\n",
    "final_response = parse_response(response)"
   ]
  },
  {
   "cell_type": "code",
   "execution_count": 16,
   "metadata": {},
   "outputs": [
    {
     "name": "stdout",
     "output_type": "stream",
     "text": [
      "I'm Yours by Ron Pope - https://open.spotify.com/track/2FGb3gJbKToDII7q6Kfp4i\n",
      "Down the Line by José González - https://open.spotify.com/track/6rzWV1cY3OQLR4as5NcTEd\n",
      "Welcome Home, Son by Radical Face - https://open.spotify.com/track/13PUJCvdTSCT1dn70tlGdm\n",
      "The Longer I Run by Peter Bradley Adams - https://open.spotify.com/track/3rWHqGRVWPDw7SaNadmqGd\n",
      "Drifting by Andy McKee - https://open.spotify.com/track/1KEMFdqpHnQODPxV6Il3rV\n",
      "Untouched - Unplugged by The Veronicas - https://open.spotify.com/track/2ZU2pgdHQ77c2ri92A3C1A\n",
      "Perth by Bon Iver - https://open.spotify.com/track/6oeuEHxwfbqu5xIJrcbPzN\n",
      "One Of These Things First by Nick Drake - https://open.spotify.com/track/24M81fKyhTWBuYzczQMkOp\n",
      "Classy Girls by The Lumineers - https://open.spotify.com/track/3uJxOhwJjf8NTml3KHxQeQ\n",
      "Shake It Out - MTV Unplugged, 2012 by Florence + The Machine - https://open.spotify.com/track/7eA8EGUwSdCtzraYYaE8ci\n"
     ]
    }
   ],
   "source": [
    "headers = authenticate_to_spotify()\n",
    "get_songs_based_on_mood_data(final_response, headers)"
   ]
  },
  {
   "cell_type": "code",
   "execution_count": null,
   "metadata": {},
   "outputs": [],
   "source": []
  }
 ],
 "metadata": {
  "kernelspec": {
   "display_name": "nlpspotenv",
   "language": "python",
   "name": "python3"
  },
  "language_info": {
   "codemirror_mode": {
    "name": "ipython",
    "version": 3
   },
   "file_extension": ".py",
   "mimetype": "text/x-python",
   "name": "python",
   "nbconvert_exporter": "python",
   "pygments_lexer": "ipython3",
   "version": "3.10.13"
  }
 },
 "nbformat": 4,
 "nbformat_minor": 2
}
