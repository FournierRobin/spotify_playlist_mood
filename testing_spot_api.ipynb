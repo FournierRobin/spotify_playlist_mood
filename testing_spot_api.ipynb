{
 "cells": [
  {
   "cell_type": "code",
   "execution_count": 5,
   "metadata": {},
   "outputs": [],
   "source": [
    "import requests\n",
    "import os\n",
    "from dotenv import load_dotenv\n",
    "load_dotenv()\n",
    "\n",
    "AUTH_URL = 'https://accounts.spotify.com/api/token'\n",
    "\n",
    "CLIENT_ID = os.getenv('CLIENT_ID')\n",
    "CLIENT_SECRET = os.getenv('CLIENT_SECRET')\n",
    "\n",
    "# POST\n",
    "auth_response = requests.post(AUTH_URL, {\n",
    "    'grant_type': 'client_credentials',\n",
    "    'client_id': CLIENT_ID,\n",
    "    'client_secret': CLIENT_SECRET,\n",
    "})\n",
    "\n",
    "# convert the response to JSON\n",
    "auth_response_data = auth_response.json()\n",
    "\n",
    "# save the access token\n",
    "access_token = auth_response_data['access_token']\n",
    "headers = {\n",
    "    'Authorization': 'Bearer {token}'.format(token=access_token)\n",
    "}"
   ]
  },
  {
   "cell_type": "code",
   "execution_count": 6,
   "metadata": {},
   "outputs": [],
   "source": [
    "BASE_URL = 'https://api.spotify.com/v1/'"
   ]
  },
  {
   "cell_type": "code",
   "execution_count": 15,
   "metadata": {},
   "outputs": [],
   "source": [
    "# Liste de correspondance d'humeur à valence\n",
    "MOOD_MAPPING = {\n",
    "    'déprimé': {'valence': 0.2, 'energy': 0.2},\n",
    "    'triste': {'valence': 0.4, 'energy': 0.4},\n",
    "    'moyen': {'valence': 0.6, 'energy': 0.6},\n",
    "    'content': {'valence': 0.8, 'energy': 0.8},\n",
    "    'heureux': {'valence': 0.9, 'energy': 0.9}\n",
    "}\n",
    "\n",
    "def get_songs_based_on_mood(mood):\n",
    "    # Récupérer la valence correspondante à l'humeur\n",
    "    mood_data = MOOD_MAPPING.get(mood, {'valence': 0.5, 'energy': 0.5})  # Valeurs par défaut si l'humeur n'est pas reconnue\n",
    "  # 0.5 comme valeur par défaut si l'humeur n'est pas reconnue\n",
    "\n",
    "    # Utilisez l'endpoint de recommandation\n",
    "    recommendations = requests.get(BASE_URL + 'recommendations?limit=10&seed_genres=pop&target_valence=' + str(mood_data['valence']) + '&target_energy=' + str(mood_data['energy']), headers=headers)\n",
    "    \n",
    "    tracks = recommendations.json().get('tracks', [])\n",
    "    \n",
    "    for track in tracks:\n",
    "        print(track['name'], \"by\", track['artists'][0]['name'], \"-\", track['external_urls']['spotify'])\n"
   ]
  },
  {
   "cell_type": "code",
   "execution_count": 18,
   "metadata": {},
   "outputs": [
    {
     "name": "stdout",
     "output_type": "stream",
     "text": [
      "Girls by The 1975 - https://open.spotify.com/track/5WSdMcWTKRdN1QYVJHJWxz\n",
      "DUELE EL CORAZON (feat. Wisin) by Enrique Iglesias - https://open.spotify.com/track/6YZdkObH88npeKrrkb8Ggf\n",
      "Feel So Close - Radio Edit by Calvin Harris - https://open.spotify.com/track/7EOYLyD4pP4YJVgoVeKUQ1\n",
      "Instruction (feat. Demi Lovato & Stefflon Don) by Jax Jones - https://open.spotify.com/track/6yf3MxEOScNBTYCHOAIiNQ\n",
      "The Way by Ariana Grande - https://open.spotify.com/track/06EL94D0TA27Ik0Ke5usbj\n",
      "Calypso by Luis Fonsi - https://open.spotify.com/track/4178A5NkEjcsGc64jpBO6d\n",
      "Don't Be So Shy - Filatov & Karas Remix by Imany - https://open.spotify.com/track/00vk0sEfb6mr2ehwSw0Uhn\n",
      "Finesse - Remix; feat. Cardi B by Bruno Mars - https://open.spotify.com/track/3Vo4wInECJQuz9BIBMOu8i\n",
      "All About That Bass by Meghan Trainor - https://open.spotify.com/track/5jE48hhRu8E6zBDPRSkEq7\n",
      "Can't Hold Us (feat. Ray Dalton) by Macklemore & Ryan Lewis - https://open.spotify.com/track/3bidbhpOYeV4knp8AIu8Xn\n"
     ]
    }
   ],
   "source": [
    "mood_input = \"heureux\"\n",
    "get_songs_based_on_mood(mood_input)"
   ]
  },
  {
   "cell_type": "code",
   "execution_count": 3,
   "metadata": {},
   "outputs": [
    {
     "name": "stdout",
     "output_type": "stream",
     "text": [
      "Familiar by Liam Payne\n",
      "What Makes You Beautiful by One Direction\n",
      "Kiss It Better by Rihanna\n",
      "Sugar by Maroon 5\n",
      "Hard Times by Paramore\n",
      "Clandestino by Shakira\n",
      "Mala Mía by Maluma\n",
      "Cake By The Ocean by DNCE\n",
      "Get Lucky (Radio Edit) [feat. Pharrell Williams and Nile Rodgers] by Daft Punk\n",
      "Don't Be So Shy - Filatov & Karas Remix by Imany\n"
     ]
    }
   ],
   "source": [
    "# Endpoint base URL\n",
    "\n",
    "# Changer ces valeurs en fonction de l'analyse de l'humeur\n",
    "valence = 0.9  # Pour des chansons heureuses\n",
    "energy = 0.8  # Pour des chansons énergétiques\n",
    "\n",
    "# Utilisez l'endpoint de recommandation\n",
    "recommendations = requests.get(BASE_URL + 'recommendations?limit=10&seed_genres=pop&target_valence=' + str(valence) + '&target_energy=' + str(energy), headers=headers)\n",
    "\n",
    "tracks = recommendations.json()['tracks']\n",
    "for track in tracks:\n",
    "    print(track['name'], \"by\", track['artists'][0]['name'])\n"
   ]
  },
  {
   "cell_type": "code",
   "execution_count": null,
   "metadata": {},
   "outputs": [],
   "source": [
    "recommendations = requests.get(BASE_URL + 'recommendations/available-genre-seeds', headers=headers)\n",
    "\n",
    "tracks = recommendations.json()['tracks']\n",
    "for track in tracks:\n",
    "    print(track['name'], \"by\", track['artists'][0]['name'])"
   ]
  }
 ],
 "metadata": {
  "kernelspec": {
   "display_name": "nlpspotenv",
   "language": "python",
   "name": "python3"
  },
  "language_info": {
   "codemirror_mode": {
    "name": "ipython",
    "version": 3
   },
   "file_extension": ".py",
   "mimetype": "text/x-python",
   "name": "python",
   "nbconvert_exporter": "python",
   "pygments_lexer": "ipython3",
   "version": "3.10.13"
  }
 },
 "nbformat": 4,
 "nbformat_minor": 2
}
