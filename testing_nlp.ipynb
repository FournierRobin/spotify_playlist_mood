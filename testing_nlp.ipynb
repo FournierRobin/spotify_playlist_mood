{
 "cells": [
  {
   "cell_type": "code",
   "execution_count": 50,
   "metadata": {},
   "outputs": [],
   "source": [
    "import spacy\n",
    "\n",
    "nlp = spacy.load(\"fr_core_news_md\")"
   ]
  },
  {
   "cell_type": "code",
   "execution_count": 51,
   "metadata": {},
   "outputs": [],
   "source": [
    "def sentence_to_main_words(sentence):\n",
    "    doc = nlp(sentence)\n",
    "    nouns_adjectives = [token.text for token in doc if token.pos_ in [\"NOUN\", \"ADJ\", \"VERB\", \"ADV\"]]\n",
    "    filtered_sentence = ' '.join(nouns_adjectives)\n",
    "    return filtered_sentence"
   ]
  },
  {
   "cell_type": "code",
   "execution_count": 52,
   "metadata": {},
   "outputs": [],
   "source": [
    "def find_most_similar(sentence, keywords):\n",
    "    filtered_sentence = sentence_to_main_words(sentence)\n",
    "    similarities = [(keyword, nlp(keyword).similarity(nlp(filtered_sentence))) for keyword in keywords]\n",
    "    most_similar_word = max(similarities, key=lambda x: x[1])[0]\n",
    "    return most_similar_word"
   ]
  },
  {
   "cell_type": "code",
   "execution_count": 77,
   "metadata": {},
   "outputs": [],
   "source": [
    "keywords = [\"déprimé\", \"triste\", \"moyen\", \"content\", \"heureux\"]\n",
    "sentence = \"Je me sens triste et déprimé\"\n",
    "most_similar = find_most_similar(sentence, keywords)"
   ]
  },
  {
   "cell_type": "code",
   "execution_count": 79,
   "metadata": {},
   "outputs": [
    {
     "name": "stdout",
     "output_type": "stream",
     "text": [
      "Le mot le plus similaire pour la phrase 'Je me sens triste et déprimé' est 'triste'.\n",
      "Les mots clés de la phrase sont : 'sens triste déprimé'\n"
     ]
    }
   ],
   "source": [
    "print(f\"Le mot le plus similaire pour la phrase '{sentence}' est '{most_similar}'.\")\n",
    "print(f\"Les mots clés de la phrase sont : '{sentence_to_main_words(sentence)}'\")"
   ]
  },
  {
   "cell_type": "markdown",
   "metadata": {},
   "source": [
    "# Genre extraction"
   ]
  },
  {
   "cell_type": "code",
   "execution_count": 19,
   "metadata": {},
   "outputs": [],
   "source": [
    "moods = {\n",
    "    \"déprimé\": {\"energy\": 0.2, \"valence\": 0.2},\n",
    "    \"triste\": {\"energy\": 0.4, \"valence\": 0.3},\n",
    "    \"moyen\": {\"energy\": 0.6, \"valence\": 0.6},\n",
    "    \"content\": {\"energy\": 0.8, \"valence\": 0.8},\n",
    "    \"heureux\": {\"energy\": 0.9, \"valence\": 0.9}\n",
    "}"
   ]
  },
  {
   "cell_type": "code",
   "execution_count": 20,
   "metadata": {},
   "outputs": [],
   "source": [
    "genres = [\"lofi\", \"hiphop\", \"rock\", \"jazz\", \"classique\"]"
   ]
  },
  {
   "cell_type": "code",
   "execution_count": 21,
   "metadata": {},
   "outputs": [],
   "source": [
    "import spacy\n",
    "\n",
    "nlp = spacy.load(\"fr_core_news_md\")"
   ]
  },
  {
   "cell_type": "code",
   "execution_count": 33,
   "metadata": {},
   "outputs": [
    {
     "name": "stdout",
     "output_type": "stream",
     "text": [
      "Genres: ['hiphop', 'rock', 'jazz']\n"
     ]
    },
    {
     "name": "stderr",
     "output_type": "stream",
     "text": [
      "/var/folders/y0/7mmq5kp12fq249dxyngjmwv80000gn/T/ipykernel_48890/2600962571.py:12: UserWarning: [W008] Evaluating Doc.similarity based on empty vectors.\n",
      "  if nlp(word).similarity(nlp(genre)) > 0.7:  # threshold can be adjusted\n"
     ]
    }
   ],
   "source": [
    "def sentence_to_main_words(sentence):\n",
    "    doc = nlp(sentence)\n",
    "    return [token.text for token in doc if token.pos_ in [\"NOUN\", \"ADJ\", \"VERB\"]]\n",
    "\n",
    "def find_matching_genres(sentence, genres):\n",
    "    extracted_genres = []\n",
    "    \n",
    "    main_words = sentence_to_main_words(sentence)\n",
    "\n",
    "    for word in main_words:\n",
    "        for genre in genres:\n",
    "            if nlp(word).similarity(nlp(genre)) > 0.7:  # threshold can be adjusted\n",
    "                if genre not in extracted_genres:\n",
    "                    extracted_genres.append(genre)\n",
    "                \n",
    "    return extracted_genres\n",
    "\n",
    "sentence = \"je suis déprimé et j'ai besoin d'aller mieux en écoutant du lofi ou du hip-hop\"\n",
    "matching_genres = find_matching_genres(sentence, genres)\n",
    "print(\"Genres:\", matching_genres)\n"
   ]
  }
 ],
 "metadata": {
  "kernelspec": {
   "display_name": "nlpspotenv",
   "language": "python",
   "name": "python3"
  },
  "language_info": {
   "codemirror_mode": {
    "name": "ipython",
    "version": 3
   },
   "file_extension": ".py",
   "mimetype": "text/x-python",
   "name": "python",
   "nbconvert_exporter": "python",
   "pygments_lexer": "ipython3",
   "version": "3.10.13"
  }
 },
 "nbformat": 4,
 "nbformat_minor": 2
}
